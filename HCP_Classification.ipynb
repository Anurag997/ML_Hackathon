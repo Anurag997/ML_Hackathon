{
 "cells": [
  {
   "cell_type": "code",
   "execution_count": 8,
   "metadata": {},
   "outputs": [],
   "source": [
    "import pandas as pd\n",
    "\n",
    "train_df = pd.read_csv('Dataset/Doceree-HCP_Train.csv', encoding='latin-1')\n",
    "test_df = pd.read_csv('Dataset/Doceree-HCP_Test.csv', encoding='latin-1')\n"
   ]
  },
  {
   "cell_type": "code",
   "execution_count": 9,
   "metadata": {},
   "outputs": [
    {
     "name": "stdout",
     "output_type": "stream",
     "text": [
      "Training Data:\n",
      "     ID DEVICETYPE  PLATFORM_ID    BIDREQUESTIP  \\\n",
      "0  1001    Desktop            2    170.173.0.22   \n",
      "1  1002    Desktop            2   65.216.253.25   \n",
      "2  1003    Desktop            2    66.232.79.22   \n",
      "3  1004    Desktop            3  137.54.125.246   \n",
      "4  1005     Mobile            7  174.202.231.99   \n",
      "\n",
      "                        USERPLATFORMUID     USERCITY  USERZIPCODE  \\\n",
      "0  6974dcaa-f932-480e-9fb5-c52e20e1393a     Portland      97206.0   \n",
      "1  c12f3f8f-8fcf-484a-90e1-1ac04db8cdcf    Arlington      22202.0   \n",
      "2  a698de4b-e200-46dd-b5fb-40402175ae18  New Meadows      83654.0   \n",
      "3  45967533-75c8-4fbd-a00c-e6ff20447aaa          NaN  229114624.0   \n",
      "4  a17e25be-532d-4cf5-b916-9308c8c3961f      Houston      77008.0   \n",
      "\n",
      "                                           USERAGENT            PLATFORMTYPE  \\\n",
      "0  Mozilla/5.0 (Windows NT 10.0; Win64; x64) Appl...  Online Medical Journal   \n",
      "1  Mozilla/5.0 (Macintosh; Intel Mac OS X 10_15_7...  Online Medical Journal   \n",
      "2  Mozilla/5.0 (Macintosh; Intel Mac OS X 10_15_7...  Online Medical Journal   \n",
      "3  Mozilla/5.0 (Windows NT 10.0; Win64; x64) Appl...  Online Medical Journal   \n",
      "4  Mozilla/5.0 (iPhone; CPU iPhone OS 16_1_1 like...  Online Medical Journal   \n",
      "\n",
      "  CHANNELTYPE                                                URL  \\\n",
      "0     Website  https://www.cancertherapyadvisor.com/home/canc...   \n",
      "1     Website  https://www.cancertherapyadvisor.com/home/deci...   \n",
      "2     Website  https://www.cancertherapyadvisor.com/home/canc...   \n",
      "3     Website  https://globalrph.com/medcalcs/warfarin-mainte...   \n",
      "4     Website  https://www.cureus.com/articles/58184-a-review...   \n",
      "\n",
      "                                            KEYWORDS    TAXONOMY  IS_HCP  \n",
      "0  General|Endocrine|False|Medicine|Surgery|Urolo...         NaN     0.0  \n",
      "1  Bone Marrow|Radiography|Chronic|Oncology|Psych...         NaN     0.0  \n",
      "2  General|Endocrine|False|Medicine|Surgery|Urolo...         NaN     0.0  \n",
      "3  Dental|Total|Clinical|Pharmacology|Physicians|...  2084P0800X     1.0  \n",
      "4  Critical Care|Emergency Medicine|General Pract...         NaN     0.0  \n",
      "\n",
      "Test Data:\n",
      "       ID DEVICETYPE  PLATFORM_ID     BIDREQUESTIP  \\\n",
      "0  115501    Desktop            2   75.189.231.103   \n",
      "1  115502     Mobile            2    24.101.33.158   \n",
      "2  115503    Desktop            2  172.118.216.142   \n",
      "3  115504    Desktop            7   71.105.120.171   \n",
      "4  115505    Desktop            2     73.82.211.73   \n",
      "\n",
      "                        USERPLATFORMUID       USERCITY  USERZIPCODE  \\\n",
      "0  0d5041ff-f0b6-4d1a-9ad7-0a29f7d485b4   Fayetteville      28305.0   \n",
      "1  c8396dd0-969f-4d99-a40b-b7bb1f516154  Conneaut Lake      16316.0   \n",
      "2  3c97a081-6518-43f8-9f26-369759cfb471         Covina      91724.0   \n",
      "3  3e2578c8-f794-41af-a38c-c5cfb3c0f014       Brooklyn      11226.0   \n",
      "4  ec2ae7ce-6a8c-4156-98a7-07203e60f483       Marietta      30062.0   \n",
      "\n",
      "                                           USERAGENT            PLATFORMTYPE  \\\n",
      "0  Mozilla/5.0 (Macintosh; Intel Mac OS X 10_11_6...  Online Medical Journal   \n",
      "1  Mozilla/5.0 (iPhone; CPU iPhone OS 15_6_1 like...  Online Medical Journal   \n",
      "2  Mozilla/5.0 (Macintosh; Intel Mac OS X 10_15_7...  Online Medical Journal   \n",
      "3  Mozilla/5.0 (Macintosh; Intel Mac OS X 10_15_7...  Online Medical Journal   \n",
      "4  Mozilla/5.0 (Windows NT 10.0; Win64; x64) Appl...  Online Medical Journal   \n",
      "\n",
      "  CHANNELTYPE                                                URL  \\\n",
      "0     Website  https://www.clinicaladvisor.com/home/features/...   \n",
      "1     Website  https://www.ophthalmologyadvisor.com/topics/ca...   \n",
      "2     Website  https://www.psychiatryadvisor.com/author/tori-...   \n",
      "3     Website  https://www.cureus.com/articles/105482-diverti...   \n",
      "4     Website  https://www.renalandurologynews.com/home/confe...   \n",
      "\n",
      "                                            KEYWORDS  \n",
      "0  Family Practice|Drainage|Clinical|Dermatology|...  \n",
      "1  General|Clinical|Operative|Medicine|Cardiology...  \n",
      "2  Abortion|Anxiety Disorders|Apnea|False|Trauma|...  \n",
      "3  Health|Male|Neurological Surgery|Otolaryngolog...  \n",
      "4  chronic kidney disease|pain|nephrology|disease...  \n"
     ]
    }
   ],
   "source": [
    "# Display the first few rows of the training dataset\n",
    "print(\"Training Data:\")\n",
    "print(train_df.head())\n",
    "\n",
    "# Display the first few rows of the test dataset\n",
    "print(\"\\nTest Data:\")\n",
    "print(test_df.head())\n"
   ]
  }
 ],
 "metadata": {
  "kernelspec": {
   "display_name": "Python 3",
   "language": "python",
   "name": "python3"
  },
  "language_info": {
   "codemirror_mode": {
    "name": "ipython",
    "version": 3
   },
   "file_extension": ".py",
   "mimetype": "text/x-python",
   "name": "python",
   "nbconvert_exporter": "python",
   "pygments_lexer": "ipython3",
   "version": "3.10.4"
  },
  "orig_nbformat": 4
 },
 "nbformat": 4,
 "nbformat_minor": 2
}
